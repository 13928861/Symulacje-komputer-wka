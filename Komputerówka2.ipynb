{
 "cells": [
  {
   "cell_type": "markdown",
   "id": "a9e912a0-233a-4e71-808c-ddb7bf8394a8",
   "metadata": {},
   "source": [
    "Komputerówka - wersja 1. Do zdobycia - 33p.\n",
    "\n",
    "Proszę nie tracić czasu na fail-safe'y dla parametrów funkcji, kod ma po prostu działać.\n",
    "\n",
    "Jeśli kod skompiluje się wam w trakcie komputerówki to jego optymalnośc jest wystarczająca.\n",
    "\n",
    "Proszę czytać ze zrozumieniem i jeśli to podane używać konkretnych metod. Kod powinien być czysty i bez zbędnych elementów.\n",
    "\n",
    "Zabronione jest korzystanie z chatbotów, urządzeń elektronicznych poza pojedynczym komputerem, komunikatorów wszelkiego typu (automatyczne 0 punktów bez możliwości poprawy).\n",
    "\n",
    "Przykładowe rozwiązanie:\n",
    "Zadanie X - napisz funkcję FUN($a,b$) liczącą sumę dwóch podanych liczb. Jako przykład użyj $a=1,b=2$. Prawidłowa odpowiedź to $3$."
   ]
  },
  {
   "cell_type": "code",
   "execution_count": null,
   "id": "d9025c17",
   "metadata": {},
   "outputs": [],
   "source": [
    "def FUN(a,b):\n",
    "    return a+b\n",
    "a, b = 1, 2\n",
    "print('wynik to ' + str(FUN(a,b)))"
   ]
  },
  {
   "cell_type": "markdown",
   "id": "f3056d2e",
   "metadata": {},
   "source": [
    "Zadanie 1 [8p] - Niech $X$ będzie zmienną losową przyjmującą dodatnie całkowite wartości o funkcji masy prawdopodobieństwa $p(k)=\\frac{1}{k(k+1)}$, $k=1,2,\\dots$. Napisz funkcję GEN($N$) przyjmującą liczbę naturalną $N$ i zwracającą wektor długości $N$ zawierający próbę IID zmiennych $X_i\\stackrel{D}{=}X$. Użyj metody odwrotnej dystrybuanty. Podpowiedź: w odpowiednim miejscu użyj funkcji sufit. Za jej pomocą wygeneruj próbę wielkości $N=10^4$, którą wykorzystaj do stworzenia histogramu porównanego z teoretyczną funkcją masy prawdopodobieństwa $p(x)$. Zadbaj o odpowiednie opisy na wykresie."
   ]
  },
  {
   "cell_type": "code",
   "execution_count": null,
   "id": "1e770b5f",
   "metadata": {},
   "outputs": [],
   "source": []
  },
  {
   "cell_type": "markdown",
   "id": "1840d9ba-5404-4d74-8b05-08d98842e05a",
   "metadata": {},
   "source": [
    "Zadanie 2 [11p] - Niech $W^1_t$, $W^2_t$ będą dwoma niezależnymi ruchami Browna (procesami Wienera). Zdefiniujmy $\\tilde{W}^1_t$, $\\tilde{W}^2_t$ jako modyfikacje procesów Wienera, które przy uderzeniu w górną połowę koła o promieniu $R$ przez proces $(\\tilde{W}^1_t,\\tilde{W}^2_t)$ wracj natychmiastowo do punktu $0$. Napisz funkcję FUN($R$, $\\Delta t$, N) przyjmującą krok dyskretyzacji czasu $\\Delta t$, $R>0$ oraz próbę Monte-Carlo $N$, która zwróci wyestymowaną średnią zmiennej $T$ będącej czasem pierwszego wyjścia procesu dwuwymiarowego procesu $(\\tilde{W}^1_t,\\tilde{W}^2_t)$ poza koło $K(R,0)$ o promieniu $R$ i środku $0$, czyli\n",
    "$$ T=\\inf_{t\\geq 0}\\{t:(\\tilde{W}^1_t,\\tilde{W}^2_t)\\in K(R,0)^C\\}.$$ Jako przykładu użyj parametrów $R=\\frac{1}{2}$, $\\Delta t=10^{-4}$, $N=10^4$. Poprawny wynik to około $0.26$"
   ]
  },
  {
   "cell_type": "code",
   "execution_count": null,
   "id": "1ec5d61f",
   "metadata": {},
   "outputs": [],
   "source": []
  },
  {
   "cell_type": "markdown",
   "id": "71df7eec",
   "metadata": {},
   "source": [
    "Zadanie 3 [14p] - Napisz funkcję ESTRISK($u,c,\\lambda,\\mu,T,M$) estymującą prawdopodobieństwo ruiny klasycznej w czasie $T$ procesu\n",
    "$$ X_t=u+ct-\\sum_{i=0}^{N_t}Y_i, $$\n",
    "gdzie $Y_i\\sim Exp(\\mu)$, $E(Y_i)=\\mu$, $u,c>0$ a $M$ to wielkośc próby Monte-Carlo. $N_t$ to proces odnowy, czyli kolejna generalizacja procesu Poissona polegająca jedynie na zmianie rozkładu czasów oczekiwania z wykładniczych na dowolne dodatnie IID zmienne losowe. W naszym przypadku czas oczekiwania na kolejny skok procesu $N_t$ jest z rozkładu jednostajnego $\\mathcal{U}(0,\\frac{2}{\\lambda})$. Wyestymuj prawdopodobieństwo ruiny klasycznej dla parametrów $u=5$,$c=3$, $\\lambda=1$, $\\mu=5$, $T=1$, $M=10^4$. Poprawna odpowiedź to około $0.26$."
   ]
  },
  {
   "cell_type": "code",
   "execution_count": null,
   "id": "355d3a5c",
   "metadata": {},
   "outputs": [],
   "source": []
  }
 ],
 "metadata": {
  "kernelspec": {
   "display_name": "Python 3 (ipykernel)",
   "language": "python",
   "name": "python3"
  },
  "language_info": {
   "codemirror_mode": {
    "name": "ipython",
    "version": 3
   },
   "file_extension": ".py",
   "mimetype": "text/x-python",
   "name": "python",
   "nbconvert_exporter": "python",
   "pygments_lexer": "ipython3",
   "version": "3.11.5"
  }
 },
 "nbformat": 4,
 "nbformat_minor": 5
}
